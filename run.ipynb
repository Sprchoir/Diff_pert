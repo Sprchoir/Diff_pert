{
 "cells": [
  {
   "cell_type": "code",
   "execution_count": null,
   "id": "165a8022",
   "metadata": {},
   "outputs": [],
   "source": [
    "import yaml\n",
    "from src.data.dataloader import get_dataloader\n",
    "from src.models.diffusion import DiffusionModel\n",
    "from src.training.solver import Trainer\n",
    "\n",
    "# Configurations\n",
    "with open(\"./Diff_pert/configs/config.yaml\", \"r\") as f:\n",
    "    configs = yaml.safe_load(f)"
   ]
  },
  {
   "cell_type": "code",
   "execution_count": null,
   "id": "e3cdd598",
   "metadata": {},
   "outputs": [],
   "source": [
    "# Train A Diffusion Model\n",
    "train_loader = get_dataloader(configs, split=\"train\")\n",
    "val_loader = get_dataloader(configs, split=\"val\")\n",
    "model = DiffusionModel(configs)\n",
    "trainer = Trainer(configs, model, train_loader, val_loader)\n",
    "print('Start Training......')\n",
    "trainer.fit()\n",
    "print('Training Done!')"
   ]
  },
  {
   "cell_type": "code",
   "execution_count": null,
   "id": "83145b43",
   "metadata": {},
   "outputs": [],
   "source": [
    "# Test the Diffusion Model\n",
    "test_loader = get_dataloader(configs, split=\"test\")\n",
    "trainer.test_loader = test_loader\n",
    "print('Start Testing......')\n",
    "trainer.test()\n",
    "print(\"Done!\")"
   ]
  },
  {
   "cell_type": "code",
   "execution_count": null,
   "id": "2b76dd94",
   "metadata": {},
   "outputs": [],
   "source": [
    "# Generate The Data to Train the Decoder\n"
   ]
  },
  {
   "cell_type": "code",
   "execution_count": null,
   "id": "63299c29",
   "metadata": {},
   "outputs": [],
   "source": [
    "# Train A Decoder\n"
   ]
  },
  {
   "cell_type": "code",
   "execution_count": null,
   "id": "7fd68cb7",
   "metadata": {},
   "outputs": [],
   "source": [
    "# Whole Pipeline for the Perturbation Prediction\n"
   ]
  }
 ],
 "metadata": {
  "kernelspec": {
   "display_name": "Python 3",
   "language": "python",
   "name": "python3"
  },
  "language_info": {
   "name": "python",
   "version": "3.10.11"
  }
 },
 "nbformat": 4,
 "nbformat_minor": 5
}
